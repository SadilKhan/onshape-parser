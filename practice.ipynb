{
 "cells": [
  {
   "cell_type": "code",
   "execution_count": 13,
   "metadata": {},
   "outputs": [],
   "source": [
    "import yaml\n",
    "from myclient import MyClient\n",
    "import json\n",
    "from rich import print\n",
    "import requests"
   ]
  },
  {
   "cell_type": "code",
   "execution_count": 2,
   "metadata": {},
   "outputs": [],
   "source": [
    "link=\"https://cad.onshape.com/documents/1ffb81a71e5b402e966b9341/w/6e295017d1b34be684565c40/e/bb398e4615fe4025b34ea8f0\"\n",
    "\n",
    "v_list = link.split(\"/\")\n",
    "did, wid, eid = v_list[-5], v_list[-3], v_list[-1]"
   ]
  },
  {
   "cell_type": "code",
   "execution_count": 10,
   "metadata": {},
   "outputs": [],
   "source": [
    "with open(\"test.json\",\"r\") as f:\n",
    "    jsonData=json.load(f)\n",
    "\n",
    "with open(\"creds.json\",\"r\") as f:\n",
    "    credData=json.load(f)"
   ]
  },
  {
   "cell_type": "code",
   "execution_count": 9,
   "metadata": {},
   "outputs": [],
   "source": [
    "def get_sketch_profiles(url,api_key):\n",
    "    #url = f\"{base_url}/documents/{document_id}/workspaces/{workspace_id}/elements/{element_id}/sketches\"\n",
    "    headers = {\n",
    "        \"Authorization\": f\"Bearer {api_key}\",\n",
    "        \"Accept\": \"application/vnd.onshape.v1+json\",\n",
    "    }\n",
    "    response = requests.get(url, headers=headers)\n",
    "    if response.status_code == 200:\n",
    "        sketch_profiles = []\n",
    "        data = response.json()\n",
    "        for item in data:\n",
    "            if item[\"message\"][\"enumName\"] == \"RevolveType\":\n",
    "                revolution_type = item[\"message\"][\"value\"]\n",
    "                if revolution_type == \"FULL\":\n",
    "                    sketch_profiles.append(item)\n",
    "            elif item[\"message\"][\"parameterId\"] == \"axis\":\n",
    "                axis_query = item[\"message\"][\"queries\"][0][\"message\"][\"geometryIds\"][0]\n",
    "                sketch_profiles.append(item)\n",
    "            elif item[\"typeName\"] == \"BTMParameterBoolean\":\n",
    "                boolean_operation = item[\"message\"][\"parameterId\"]\n",
    "                sketch_profiles.append(item)\n",
    "        return sketch_profiles\n",
    "    else:\n",
    "        print(\"Error: Failed to retrieve sketch profiles\")\n",
    "        return []"
   ]
  },
  {
   "cell_type": "code",
   "execution_count": 14,
   "metadata": {},
   "outputs": [
    {
     "ename": "JSONDecodeError",
     "evalue": "Expecting value: line 1 column 1 (char 0)",
     "output_type": "error",
     "traceback": [
      "\u001b[0;31m---------------------------------------------------------------------------\u001b[0m",
      "\u001b[0;31mJSONDecodeError\u001b[0m                           Traceback (most recent call last)",
      "\u001b[0;32m~/.conda/envs/onshape/lib/python3.7/site-packages/requests/models.py\u001b[0m in \u001b[0;36mjson\u001b[0;34m(self, **kwargs)\u001b[0m\n\u001b[1;32m    970\u001b[0m         \u001b[0;32mtry\u001b[0m\u001b[0;34m:\u001b[0m\u001b[0;34m\u001b[0m\u001b[0;34m\u001b[0m\u001b[0m\n\u001b[0;32m--> 971\u001b[0;31m             \u001b[0;32mreturn\u001b[0m \u001b[0mcomplexjson\u001b[0m\u001b[0;34m.\u001b[0m\u001b[0mloads\u001b[0m\u001b[0;34m(\u001b[0m\u001b[0mself\u001b[0m\u001b[0;34m.\u001b[0m\u001b[0mtext\u001b[0m\u001b[0;34m,\u001b[0m \u001b[0;34m**\u001b[0m\u001b[0mkwargs\u001b[0m\u001b[0;34m)\u001b[0m\u001b[0;34m\u001b[0m\u001b[0;34m\u001b[0m\u001b[0m\n\u001b[0m\u001b[1;32m    972\u001b[0m         \u001b[0;32mexcept\u001b[0m \u001b[0mJSONDecodeError\u001b[0m \u001b[0;32mas\u001b[0m \u001b[0me\u001b[0m\u001b[0;34m:\u001b[0m\u001b[0;34m\u001b[0m\u001b[0;34m\u001b[0m\u001b[0m\n",
      "\u001b[0;32m~/.conda/envs/onshape/lib/python3.7/json/__init__.py\u001b[0m in \u001b[0;36mloads\u001b[0;34m(s, encoding, cls, object_hook, parse_float, parse_int, parse_constant, object_pairs_hook, **kw)\u001b[0m\n\u001b[1;32m    347\u001b[0m             parse_constant is None and object_pairs_hook is None and not kw):\n\u001b[0;32m--> 348\u001b[0;31m         \u001b[0;32mreturn\u001b[0m \u001b[0m_default_decoder\u001b[0m\u001b[0;34m.\u001b[0m\u001b[0mdecode\u001b[0m\u001b[0;34m(\u001b[0m\u001b[0ms\u001b[0m\u001b[0;34m)\u001b[0m\u001b[0;34m\u001b[0m\u001b[0;34m\u001b[0m\u001b[0m\n\u001b[0m\u001b[1;32m    349\u001b[0m     \u001b[0;32mif\u001b[0m \u001b[0mcls\u001b[0m \u001b[0;32mis\u001b[0m \u001b[0;32mNone\u001b[0m\u001b[0;34m:\u001b[0m\u001b[0;34m\u001b[0m\u001b[0;34m\u001b[0m\u001b[0m\n",
      "\u001b[0;32m~/.conda/envs/onshape/lib/python3.7/json/decoder.py\u001b[0m in \u001b[0;36mdecode\u001b[0;34m(self, s, _w)\u001b[0m\n\u001b[1;32m    336\u001b[0m         \"\"\"\n\u001b[0;32m--> 337\u001b[0;31m         \u001b[0mobj\u001b[0m\u001b[0;34m,\u001b[0m \u001b[0mend\u001b[0m \u001b[0;34m=\u001b[0m \u001b[0mself\u001b[0m\u001b[0;34m.\u001b[0m\u001b[0mraw_decode\u001b[0m\u001b[0;34m(\u001b[0m\u001b[0ms\u001b[0m\u001b[0;34m,\u001b[0m \u001b[0midx\u001b[0m\u001b[0;34m=\u001b[0m\u001b[0m_w\u001b[0m\u001b[0;34m(\u001b[0m\u001b[0ms\u001b[0m\u001b[0;34m,\u001b[0m \u001b[0;36m0\u001b[0m\u001b[0;34m)\u001b[0m\u001b[0;34m.\u001b[0m\u001b[0mend\u001b[0m\u001b[0;34m(\u001b[0m\u001b[0;34m)\u001b[0m\u001b[0;34m)\u001b[0m\u001b[0;34m\u001b[0m\u001b[0;34m\u001b[0m\u001b[0m\n\u001b[0m\u001b[1;32m    338\u001b[0m         \u001b[0mend\u001b[0m \u001b[0;34m=\u001b[0m \u001b[0m_w\u001b[0m\u001b[0;34m(\u001b[0m\u001b[0ms\u001b[0m\u001b[0;34m,\u001b[0m \u001b[0mend\u001b[0m\u001b[0;34m)\u001b[0m\u001b[0;34m.\u001b[0m\u001b[0mend\u001b[0m\u001b[0;34m(\u001b[0m\u001b[0;34m)\u001b[0m\u001b[0;34m\u001b[0m\u001b[0;34m\u001b[0m\u001b[0m\n",
      "\u001b[0;32m~/.conda/envs/onshape/lib/python3.7/json/decoder.py\u001b[0m in \u001b[0;36mraw_decode\u001b[0;34m(self, s, idx)\u001b[0m\n\u001b[1;32m    354\u001b[0m         \u001b[0;32mexcept\u001b[0m \u001b[0mStopIteration\u001b[0m \u001b[0;32mas\u001b[0m \u001b[0merr\u001b[0m\u001b[0;34m:\u001b[0m\u001b[0;34m\u001b[0m\u001b[0;34m\u001b[0m\u001b[0m\n\u001b[0;32m--> 355\u001b[0;31m             \u001b[0;32mraise\u001b[0m \u001b[0mJSONDecodeError\u001b[0m\u001b[0;34m(\u001b[0m\u001b[0;34m\"Expecting value\"\u001b[0m\u001b[0;34m,\u001b[0m \u001b[0ms\u001b[0m\u001b[0;34m,\u001b[0m \u001b[0merr\u001b[0m\u001b[0;34m.\u001b[0m\u001b[0mvalue\u001b[0m\u001b[0;34m)\u001b[0m \u001b[0;32mfrom\u001b[0m \u001b[0;32mNone\u001b[0m\u001b[0;34m\u001b[0m\u001b[0;34m\u001b[0m\u001b[0m\n\u001b[0m\u001b[1;32m    356\u001b[0m         \u001b[0;32mreturn\u001b[0m \u001b[0mobj\u001b[0m\u001b[0;34m,\u001b[0m \u001b[0mend\u001b[0m\u001b[0;34m\u001b[0m\u001b[0;34m\u001b[0m\u001b[0m\n",
      "\u001b[0;31mJSONDecodeError\u001b[0m: Expecting value: line 1 column 1 (char 0)",
      "\nDuring handling of the above exception, another exception occurred:\n",
      "\u001b[0;31mJSONDecodeError\u001b[0m                           Traceback (most recent call last)",
      "\u001b[0;32m<ipython-input-14-1f2fc5c141b9>\u001b[0m in \u001b[0;36m<module>\u001b[0;34m\u001b[0m\n\u001b[0;32m----> 1\u001b[0;31m \u001b[0mget_sketch_profiles\u001b[0m\u001b[0;34m(\u001b[0m\u001b[0murl\u001b[0m\u001b[0;34m=\u001b[0m\u001b[0mlink\u001b[0m\u001b[0;34m,\u001b[0m\u001b[0mapi_key\u001b[0m\u001b[0;34m=\u001b[0m\u001b[0mcredData\u001b[0m\u001b[0;34m)\u001b[0m\u001b[0;34m\u001b[0m\u001b[0;34m\u001b[0m\u001b[0m\n\u001b[0m",
      "\u001b[0;32m<ipython-input-9-a912563a25f7>\u001b[0m in \u001b[0;36mget_sketch_profiles\u001b[0;34m(url, api_key)\u001b[0m\n\u001b[1;32m      8\u001b[0m     \u001b[0;32mif\u001b[0m \u001b[0mresponse\u001b[0m\u001b[0;34m.\u001b[0m\u001b[0mstatus_code\u001b[0m \u001b[0;34m==\u001b[0m \u001b[0;36m200\u001b[0m\u001b[0;34m:\u001b[0m\u001b[0;34m\u001b[0m\u001b[0;34m\u001b[0m\u001b[0m\n\u001b[1;32m      9\u001b[0m         \u001b[0msketch_profiles\u001b[0m \u001b[0;34m=\u001b[0m \u001b[0;34m[\u001b[0m\u001b[0;34m]\u001b[0m\u001b[0;34m\u001b[0m\u001b[0;34m\u001b[0m\u001b[0m\n\u001b[0;32m---> 10\u001b[0;31m         \u001b[0mdata\u001b[0m \u001b[0;34m=\u001b[0m \u001b[0mresponse\u001b[0m\u001b[0;34m.\u001b[0m\u001b[0mjson\u001b[0m\u001b[0;34m(\u001b[0m\u001b[0;34m)\u001b[0m\u001b[0;34m\u001b[0m\u001b[0;34m\u001b[0m\u001b[0m\n\u001b[0m\u001b[1;32m     11\u001b[0m         \u001b[0;32mfor\u001b[0m \u001b[0mitem\u001b[0m \u001b[0;32min\u001b[0m \u001b[0mdata\u001b[0m\u001b[0;34m:\u001b[0m\u001b[0;34m\u001b[0m\u001b[0;34m\u001b[0m\u001b[0m\n\u001b[1;32m     12\u001b[0m             \u001b[0;32mif\u001b[0m \u001b[0mitem\u001b[0m\u001b[0;34m[\u001b[0m\u001b[0;34m\"message\"\u001b[0m\u001b[0;34m]\u001b[0m\u001b[0;34m[\u001b[0m\u001b[0;34m\"enumName\"\u001b[0m\u001b[0;34m]\u001b[0m \u001b[0;34m==\u001b[0m \u001b[0;34m\"RevolveType\"\u001b[0m\u001b[0;34m:\u001b[0m\u001b[0;34m\u001b[0m\u001b[0;34m\u001b[0m\u001b[0m\n",
      "\u001b[0;32m~/.conda/envs/onshape/lib/python3.7/site-packages/requests/models.py\u001b[0m in \u001b[0;36mjson\u001b[0;34m(self, **kwargs)\u001b[0m\n\u001b[1;32m    973\u001b[0m             \u001b[0;31m# Catch JSON-related errors and raise as requests.JSONDecodeError\u001b[0m\u001b[0;34m\u001b[0m\u001b[0;34m\u001b[0m\u001b[0;34m\u001b[0m\u001b[0m\n\u001b[1;32m    974\u001b[0m             \u001b[0;31m# This aliases json.JSONDecodeError and simplejson.JSONDecodeError\u001b[0m\u001b[0;34m\u001b[0m\u001b[0;34m\u001b[0m\u001b[0;34m\u001b[0m\u001b[0m\n\u001b[0;32m--> 975\u001b[0;31m             \u001b[0;32mraise\u001b[0m \u001b[0mRequestsJSONDecodeError\u001b[0m\u001b[0;34m(\u001b[0m\u001b[0me\u001b[0m\u001b[0;34m.\u001b[0m\u001b[0mmsg\u001b[0m\u001b[0;34m,\u001b[0m \u001b[0me\u001b[0m\u001b[0;34m.\u001b[0m\u001b[0mdoc\u001b[0m\u001b[0;34m,\u001b[0m \u001b[0me\u001b[0m\u001b[0;34m.\u001b[0m\u001b[0mpos\u001b[0m\u001b[0;34m)\u001b[0m\u001b[0;34m\u001b[0m\u001b[0;34m\u001b[0m\u001b[0m\n\u001b[0m\u001b[1;32m    976\u001b[0m \u001b[0;34m\u001b[0m\u001b[0m\n\u001b[1;32m    977\u001b[0m     \u001b[0;34m@\u001b[0m\u001b[0mproperty\u001b[0m\u001b[0;34m\u001b[0m\u001b[0;34m\u001b[0m\u001b[0m\n",
      "\u001b[0;31mJSONDecodeError\u001b[0m: Expecting value: line 1 column 1 (char 0)"
     ]
    }
   ],
   "source": [
    "get_sketch_profiles(url=link,api_key=credData)"
   ]
  },
  {
   "cell_type": "code",
   "execution_count": 24,
   "metadata": {},
   "outputs": [
    {
     "data": {
      "text/plain": [
       "'newSketch'"
      ]
     },
     "execution_count": 24,
     "metadata": {},
     "output_type": "execute_result"
    }
   ],
   "source": [
    "jsonData['features'][0]['message']['featureType']"
   ]
  },
  {
   "cell_type": "code",
   "execution_count": 26,
   "metadata": {},
   "outputs": [
    {
     "data": {
      "text/html": [
       "<pre style=\"white-space:pre;overflow-x:auto;line-height:normal;font-family:Menlo,'DejaVu Sans Mono',consolas,'Courier New',monospace\"><span style=\"font-weight: bold\">[</span>\n",
       "    <span style=\"font-weight: bold\">{</span>\n",
       "        <span style=\"color: #008000; text-decoration-color: #008000\">'type'</span>: <span style=\"color: #008080; text-decoration-color: #008080; font-weight: bold\">148</span>,\n",
       "        <span style=\"color: #008000; text-decoration-color: #008000\">'typeName'</span>: <span style=\"color: #008000; text-decoration-color: #008000\">'BTMParameterQueryList'</span>,\n",
       "        <span style=\"color: #008000; text-decoration-color: #008000\">'message'</span>: <span style=\"font-weight: bold\">{</span>\n",
       "            <span style=\"color: #008000; text-decoration-color: #008000\">'queries'</span>: <span style=\"font-weight: bold\">[</span>\n",
       "                <span style=\"font-weight: bold\">{</span>\n",
       "                    <span style=\"color: #008000; text-decoration-color: #008000\">'type'</span>: <span style=\"color: #008080; text-decoration-color: #008080; font-weight: bold\">138</span>,\n",
       "                    <span style=\"color: #008000; text-decoration-color: #008000\">'typeName'</span>: <span style=\"color: #008000; text-decoration-color: #008000\">'BTMIndividualQuery'</span>,\n",
       "                    <span style=\"color: #008000; text-decoration-color: #008000\">'message'</span>: <span style=\"font-weight: bold\">{</span><span style=\"color: #008000; text-decoration-color: #008000\">'geometryIds'</span>: <span style=\"font-weight: bold\">[</span><span style=\"color: #008000; text-decoration-color: #008000\">'JHd'</span><span style=\"font-weight: bold\">]</span>, <span style=\"color: #008000; text-decoration-color: #008000\">'hasUserCode'</span>: <span style=\"color: #ff0000; text-decoration-color: #ff0000; font-style: italic\">False</span>, <span style=\"color: #008000; text-decoration-color: #008000\">'nodeId'</span>: <span style=\"color: #008000; text-decoration-color: #008000\">'M7Rijbey9qnsF9Rms'</span><span style=\"font-weight: bold\">}</span>\n",
       "                <span style=\"font-weight: bold\">}</span>\n",
       "            <span style=\"font-weight: bold\">]</span>,\n",
       "            <span style=\"color: #008000; text-decoration-color: #008000\">'parameterId'</span>: <span style=\"color: #008000; text-decoration-color: #008000\">'entities'</span>,\n",
       "            <span style=\"color: #008000; text-decoration-color: #008000\">'hasUserCode'</span>: <span style=\"color: #ff0000; text-decoration-color: #ff0000; font-style: italic\">False</span>,\n",
       "            <span style=\"color: #008000; text-decoration-color: #008000\">'nodeId'</span>: <span style=\"color: #008000; text-decoration-color: #008000\">'MO0RyZGRzxpiUDgSo'</span>\n",
       "        <span style=\"font-weight: bold\">}</span>\n",
       "    <span style=\"font-weight: bold\">}</span>,\n",
       "    <span style=\"font-weight: bold\">{</span>\n",
       "        <span style=\"color: #008000; text-decoration-color: #008000\">'type'</span>: <span style=\"color: #008080; text-decoration-color: #008080; font-weight: bold\">147</span>,\n",
       "        <span style=\"color: #008000; text-decoration-color: #008000\">'typeName'</span>: <span style=\"color: #008000; text-decoration-color: #008000\">'BTMParameterQuantity'</span>,\n",
       "        <span style=\"color: #008000; text-decoration-color: #008000\">'message'</span>: <span style=\"font-weight: bold\">{</span>\n",
       "            <span style=\"color: #008000; text-decoration-color: #008000\">'units'</span>: <span style=\"color: #008000; text-decoration-color: #008000\">''</span>,\n",
       "            <span style=\"color: #008000; text-decoration-color: #008000\">'value'</span>: <span style=\"color: #008080; text-decoration-color: #008080; font-weight: bold\">0</span>,\n",
       "            <span style=\"color: #008000; text-decoration-color: #008000\">'expression'</span>: <span style=\"color: #008000; text-decoration-color: #008000\">'0.1*in'</span>,\n",
       "            <span style=\"color: #008000; text-decoration-color: #008000\">'isInteger'</span>: <span style=\"color: #ff0000; text-decoration-color: #ff0000; font-style: italic\">False</span>,\n",
       "            <span style=\"color: #008000; text-decoration-color: #008000\">'parameterId'</span>: <span style=\"color: #008000; text-decoration-color: #008000\">'radius'</span>,\n",
       "            <span style=\"color: #008000; text-decoration-color: #008000\">'hasUserCode'</span>: <span style=\"color: #ff0000; text-decoration-color: #ff0000; font-style: italic\">False</span>,\n",
       "            <span style=\"color: #008000; text-decoration-color: #008000\">'nodeId'</span>: <span style=\"color: #008000; text-decoration-color: #008000\">'MEFKynCCcUkFehUqQ'</span>\n",
       "        <span style=\"font-weight: bold\">}</span>\n",
       "    <span style=\"font-weight: bold\">}</span>,\n",
       "    <span style=\"font-weight: bold\">{</span>\n",
       "        <span style=\"color: #008000; text-decoration-color: #008000\">'type'</span>: <span style=\"color: #008080; text-decoration-color: #008080; font-weight: bold\">144</span>,\n",
       "        <span style=\"color: #008000; text-decoration-color: #008000\">'typeName'</span>: <span style=\"color: #008000; text-decoration-color: #008000\">'BTMParameterBoolean'</span>,\n",
       "        <span style=\"color: #008000; text-decoration-color: #008000\">'message'</span>: <span style=\"font-weight: bold\">{</span>\n",
       "            <span style=\"color: #008000; text-decoration-color: #008000\">'value'</span>: <span style=\"color: #00ff00; text-decoration-color: #00ff00; font-style: italic\">True</span>,\n",
       "            <span style=\"color: #008000; text-decoration-color: #008000\">'parameterId'</span>: <span style=\"color: #008000; text-decoration-color: #008000\">'tangentPropagation'</span>,\n",
       "            <span style=\"color: #008000; text-decoration-color: #008000\">'hasUserCode'</span>: <span style=\"color: #ff0000; text-decoration-color: #ff0000; font-style: italic\">False</span>,\n",
       "            <span style=\"color: #008000; text-decoration-color: #008000\">'nodeId'</span>: <span style=\"color: #008000; text-decoration-color: #008000\">'MujrXLwQSZnycfmsQ'</span>\n",
       "        <span style=\"font-weight: bold\">}</span>\n",
       "    <span style=\"font-weight: bold\">}</span>,\n",
       "    <span style=\"font-weight: bold\">{</span>\n",
       "        <span style=\"color: #008000; text-decoration-color: #008000\">'type'</span>: <span style=\"color: #008080; text-decoration-color: #008080; font-weight: bold\">147</span>,\n",
       "        <span style=\"color: #008000; text-decoration-color: #008000\">'typeName'</span>: <span style=\"color: #008000; text-decoration-color: #008000\">'BTMParameterQuantity'</span>,\n",
       "        <span style=\"color: #008000; text-decoration-color: #008000\">'message'</span>: <span style=\"font-weight: bold\">{</span>\n",
       "            <span style=\"color: #008000; text-decoration-color: #008000\">'units'</span>: <span style=\"color: #008000; text-decoration-color: #008000\">''</span>,\n",
       "            <span style=\"color: #008000; text-decoration-color: #008000\">'value'</span>: <span style=\"color: #008080; text-decoration-color: #008080; font-weight: bold\">0</span>,\n",
       "            <span style=\"color: #008000; text-decoration-color: #008000\">'expression'</span>: <span style=\"color: #008000; text-decoration-color: #008000\">'0.5'</span>,\n",
       "            <span style=\"color: #008000; text-decoration-color: #008000\">'isInteger'</span>: <span style=\"color: #ff0000; text-decoration-color: #ff0000; font-style: italic\">False</span>,\n",
       "            <span style=\"color: #008000; text-decoration-color: #008000\">'parameterId'</span>: <span style=\"color: #008000; text-decoration-color: #008000\">'rho'</span>,\n",
       "            <span style=\"color: #008000; text-decoration-color: #008000\">'hasUserCode'</span>: <span style=\"color: #ff0000; text-decoration-color: #ff0000; font-style: italic\">False</span>,\n",
       "            <span style=\"color: #008000; text-decoration-color: #008000\">'nodeId'</span>: <span style=\"color: #008000; text-decoration-color: #008000\">'MADDupxJoz3qU7+QF'</span>\n",
       "        <span style=\"font-weight: bold\">}</span>\n",
       "    <span style=\"font-weight: bold\">}</span>,\n",
       "    <span style=\"font-weight: bold\">{</span>\n",
       "        <span style=\"color: #008000; text-decoration-color: #008000\">'type'</span>: <span style=\"color: #008080; text-decoration-color: #008080; font-weight: bold\">145</span>,\n",
       "        <span style=\"color: #008000; text-decoration-color: #008000\">'typeName'</span>: <span style=\"color: #008000; text-decoration-color: #008000\">'BTMParameterEnum'</span>,\n",
       "        <span style=\"color: #008000; text-decoration-color: #008000\">'message'</span>: <span style=\"font-weight: bold\">{</span>\n",
       "            <span style=\"color: #008000; text-decoration-color: #008000\">'enumName'</span>: <span style=\"color: #008000; text-decoration-color: #008000\">'FeatureScriptVersionNumber'</span>,\n",
       "            <span style=\"color: #008000; text-decoration-color: #008000\">'value'</span>: <span style=\"color: #008000; text-decoration-color: #008000\">'V608_MERGE_FROM_TOOLS'</span>,\n",
       "            <span style=\"color: #008000; text-decoration-color: #008000\">'namespace'</span>: <span style=\"color: #008000; text-decoration-color: #008000\">''</span>,\n",
       "            <span style=\"color: #008000; text-decoration-color: #008000\">'parameterId'</span>: <span style=\"color: #008000; text-decoration-color: #008000\">'asVersion'</span>,\n",
       "            <span style=\"color: #008000; text-decoration-color: #008000\">'hasUserCode'</span>: <span style=\"color: #ff0000; text-decoration-color: #ff0000; font-style: italic\">False</span>,\n",
       "            <span style=\"color: #008000; text-decoration-color: #008000\">'nodeId'</span>: <span style=\"color: #008000; text-decoration-color: #008000\">'M0T8PKY+7AyzS1ztv'</span>\n",
       "        <span style=\"font-weight: bold\">}</span>\n",
       "    <span style=\"font-weight: bold\">}</span>,\n",
       "    <span style=\"font-weight: bold\">{</span>\n",
       "        <span style=\"color: #008000; text-decoration-color: #008000\">'type'</span>: <span style=\"color: #008080; text-decoration-color: #008080; font-weight: bold\">144</span>,\n",
       "        <span style=\"color: #008000; text-decoration-color: #008000\">'typeName'</span>: <span style=\"color: #008000; text-decoration-color: #008000\">'BTMParameterBoolean'</span>,\n",
       "        <span style=\"color: #008000; text-decoration-color: #008000\">'message'</span>: <span style=\"font-weight: bold\">{</span>\n",
       "            <span style=\"color: #008000; text-decoration-color: #008000\">'value'</span>: <span style=\"color: #ff0000; text-decoration-color: #ff0000; font-style: italic\">False</span>,\n",
       "            <span style=\"color: #008000; text-decoration-color: #008000\">'parameterId'</span>: <span style=\"color: #008000; text-decoration-color: #008000\">'allowEdgeOverflow'</span>,\n",
       "            <span style=\"color: #008000; text-decoration-color: #008000\">'hasUserCode'</span>: <span style=\"color: #ff0000; text-decoration-color: #ff0000; font-style: italic\">False</span>,\n",
       "            <span style=\"color: #008000; text-decoration-color: #008000\">'nodeId'</span>: <span style=\"color: #008000; text-decoration-color: #008000\">'JAO5lBjTWF2B+keNHOWvvcp1'</span>\n",
       "        <span style=\"font-weight: bold\">}</span>\n",
       "    <span style=\"font-weight: bold\">}</span>\n",
       "<span style=\"font-weight: bold\">]</span>\n",
       "</pre>\n"
      ],
      "text/plain": [
       "\u001b[1m[\u001b[0m\n",
       "    \u001b[1m{\u001b[0m\n",
       "        \u001b[32m'type'\u001b[0m: \u001b[1;36m148\u001b[0m,\n",
       "        \u001b[32m'typeName'\u001b[0m: \u001b[32m'BTMParameterQueryList'\u001b[0m,\n",
       "        \u001b[32m'message'\u001b[0m: \u001b[1m{\u001b[0m\n",
       "            \u001b[32m'queries'\u001b[0m: \u001b[1m[\u001b[0m\n",
       "                \u001b[1m{\u001b[0m\n",
       "                    \u001b[32m'type'\u001b[0m: \u001b[1;36m138\u001b[0m,\n",
       "                    \u001b[32m'typeName'\u001b[0m: \u001b[32m'BTMIndividualQuery'\u001b[0m,\n",
       "                    \u001b[32m'message'\u001b[0m: \u001b[1m{\u001b[0m\u001b[32m'geometryIds'\u001b[0m: \u001b[1m[\u001b[0m\u001b[32m'JHd'\u001b[0m\u001b[1m]\u001b[0m, \u001b[32m'hasUserCode'\u001b[0m: \u001b[3;91mFalse\u001b[0m, \u001b[32m'nodeId'\u001b[0m: \u001b[32m'M7Rijbey9qnsF9Rms'\u001b[0m\u001b[1m}\u001b[0m\n",
       "                \u001b[1m}\u001b[0m\n",
       "            \u001b[1m]\u001b[0m,\n",
       "            \u001b[32m'parameterId'\u001b[0m: \u001b[32m'entities'\u001b[0m,\n",
       "            \u001b[32m'hasUserCode'\u001b[0m: \u001b[3;91mFalse\u001b[0m,\n",
       "            \u001b[32m'nodeId'\u001b[0m: \u001b[32m'MO0RyZGRzxpiUDgSo'\u001b[0m\n",
       "        \u001b[1m}\u001b[0m\n",
       "    \u001b[1m}\u001b[0m,\n",
       "    \u001b[1m{\u001b[0m\n",
       "        \u001b[32m'type'\u001b[0m: \u001b[1;36m147\u001b[0m,\n",
       "        \u001b[32m'typeName'\u001b[0m: \u001b[32m'BTMParameterQuantity'\u001b[0m,\n",
       "        \u001b[32m'message'\u001b[0m: \u001b[1m{\u001b[0m\n",
       "            \u001b[32m'units'\u001b[0m: \u001b[32m''\u001b[0m,\n",
       "            \u001b[32m'value'\u001b[0m: \u001b[1;36m0\u001b[0m,\n",
       "            \u001b[32m'expression'\u001b[0m: \u001b[32m'0.1*in'\u001b[0m,\n",
       "            \u001b[32m'isInteger'\u001b[0m: \u001b[3;91mFalse\u001b[0m,\n",
       "            \u001b[32m'parameterId'\u001b[0m: \u001b[32m'radius'\u001b[0m,\n",
       "            \u001b[32m'hasUserCode'\u001b[0m: \u001b[3;91mFalse\u001b[0m,\n",
       "            \u001b[32m'nodeId'\u001b[0m: \u001b[32m'MEFKynCCcUkFehUqQ'\u001b[0m\n",
       "        \u001b[1m}\u001b[0m\n",
       "    \u001b[1m}\u001b[0m,\n",
       "    \u001b[1m{\u001b[0m\n",
       "        \u001b[32m'type'\u001b[0m: \u001b[1;36m144\u001b[0m,\n",
       "        \u001b[32m'typeName'\u001b[0m: \u001b[32m'BTMParameterBoolean'\u001b[0m,\n",
       "        \u001b[32m'message'\u001b[0m: \u001b[1m{\u001b[0m\n",
       "            \u001b[32m'value'\u001b[0m: \u001b[3;92mTrue\u001b[0m,\n",
       "            \u001b[32m'parameterId'\u001b[0m: \u001b[32m'tangentPropagation'\u001b[0m,\n",
       "            \u001b[32m'hasUserCode'\u001b[0m: \u001b[3;91mFalse\u001b[0m,\n",
       "            \u001b[32m'nodeId'\u001b[0m: \u001b[32m'MujrXLwQSZnycfmsQ'\u001b[0m\n",
       "        \u001b[1m}\u001b[0m\n",
       "    \u001b[1m}\u001b[0m,\n",
       "    \u001b[1m{\u001b[0m\n",
       "        \u001b[32m'type'\u001b[0m: \u001b[1;36m147\u001b[0m,\n",
       "        \u001b[32m'typeName'\u001b[0m: \u001b[32m'BTMParameterQuantity'\u001b[0m,\n",
       "        \u001b[32m'message'\u001b[0m: \u001b[1m{\u001b[0m\n",
       "            \u001b[32m'units'\u001b[0m: \u001b[32m''\u001b[0m,\n",
       "            \u001b[32m'value'\u001b[0m: \u001b[1;36m0\u001b[0m,\n",
       "            \u001b[32m'expression'\u001b[0m: \u001b[32m'0.5'\u001b[0m,\n",
       "            \u001b[32m'isInteger'\u001b[0m: \u001b[3;91mFalse\u001b[0m,\n",
       "            \u001b[32m'parameterId'\u001b[0m: \u001b[32m'rho'\u001b[0m,\n",
       "            \u001b[32m'hasUserCode'\u001b[0m: \u001b[3;91mFalse\u001b[0m,\n",
       "            \u001b[32m'nodeId'\u001b[0m: \u001b[32m'MADDupxJoz3qU7+QF'\u001b[0m\n",
       "        \u001b[1m}\u001b[0m\n",
       "    \u001b[1m}\u001b[0m,\n",
       "    \u001b[1m{\u001b[0m\n",
       "        \u001b[32m'type'\u001b[0m: \u001b[1;36m145\u001b[0m,\n",
       "        \u001b[32m'typeName'\u001b[0m: \u001b[32m'BTMParameterEnum'\u001b[0m,\n",
       "        \u001b[32m'message'\u001b[0m: \u001b[1m{\u001b[0m\n",
       "            \u001b[32m'enumName'\u001b[0m: \u001b[32m'FeatureScriptVersionNumber'\u001b[0m,\n",
       "            \u001b[32m'value'\u001b[0m: \u001b[32m'V608_MERGE_FROM_TOOLS'\u001b[0m,\n",
       "            \u001b[32m'namespace'\u001b[0m: \u001b[32m''\u001b[0m,\n",
       "            \u001b[32m'parameterId'\u001b[0m: \u001b[32m'asVersion'\u001b[0m,\n",
       "            \u001b[32m'hasUserCode'\u001b[0m: \u001b[3;91mFalse\u001b[0m,\n",
       "            \u001b[32m'nodeId'\u001b[0m: \u001b[32m'M0T8PKY+7AyzS1ztv'\u001b[0m\n",
       "        \u001b[1m}\u001b[0m\n",
       "    \u001b[1m}\u001b[0m,\n",
       "    \u001b[1m{\u001b[0m\n",
       "        \u001b[32m'type'\u001b[0m: \u001b[1;36m144\u001b[0m,\n",
       "        \u001b[32m'typeName'\u001b[0m: \u001b[32m'BTMParameterBoolean'\u001b[0m,\n",
       "        \u001b[32m'message'\u001b[0m: \u001b[1m{\u001b[0m\n",
       "            \u001b[32m'value'\u001b[0m: \u001b[3;91mFalse\u001b[0m,\n",
       "            \u001b[32m'parameterId'\u001b[0m: \u001b[32m'allowEdgeOverflow'\u001b[0m,\n",
       "            \u001b[32m'hasUserCode'\u001b[0m: \u001b[3;91mFalse\u001b[0m,\n",
       "            \u001b[32m'nodeId'\u001b[0m: \u001b[32m'JAO5lBjTWF2B+keNHOWvvcp1'\u001b[0m\n",
       "        \u001b[1m}\u001b[0m\n",
       "    \u001b[1m}\u001b[0m\n",
       "\u001b[1m]\u001b[0m\n"
      ]
     },
     "metadata": {},
     "output_type": "display_data"
    }
   ],
   "source": [
    "print(jsonData['features'][2]['message']['parameters'])"
   ]
  },
  {
   "cell_type": "code",
   "execution_count": 18,
   "metadata": {},
   "outputs": [
    {
     "name": "stdout",
     "output_type": "stream",
     "text": [
      "\u001b[32m2023-07-16 19:13:28.034\u001b[0m | \u001b[1mINFO    \u001b[0m | \u001b[36mapikey.onshape\u001b[0m:\u001b[36m__init__\u001b[0m:\u001b[36m80\u001b[0m - \u001b[1monshape instance created: url = https://cad.onshape.com, access key = b'kr6Z1LgdgLrlX8nchk9qE5s9'\u001b[0m\n",
      "\u001b[32m2023-07-16 19:13:28.035\u001b[0m | \u001b[1mINFO    \u001b[0m | \u001b[36mapikey.onshape\u001b[0m:\u001b[36m_make_nonce\u001b[0m:\u001b[36m94\u001b[0m - \u001b[1mnonce created: T0v8j6vcS7zDvyDw0POtcfdg0\u001b[0m\n",
      "\u001b[32m2023-07-16 19:13:28.035\u001b[0m | \u001b[1mINFO    \u001b[0m | \u001b[36mapikey.onshape\u001b[0m:\u001b[36m_make_auth\u001b[0m:\u001b[36m124\u001b[0m - \u001b[1m{'query': '', 'hmac_str': b'post\\nt0v8j6vcs7zdvydw0potcfdg0\\nsun, 16 jul 2023 17:13:28 gmt\\napplication/json\\n/api/partstudios/d/1ffb81a71e5b402e966b9341/w/6e295017d1b34be684565c40/e/bb398e4615fe4025b34ea8f0/featurescript\\n\\n', 'signature': b'gNMzRcXOoliuUJrjVxTX76ftMDhsb0uVNfAthhLJDM8=', 'auth': 'On kr6Z1LgdgLrlX8nchk9qE5s9:HmacSHA256:gNMzRcXOoliuUJrjVxTX76ftMDhsb0uVNfAthhLJDM8='}\u001b[0m\n",
      "\u001b[32m2023-07-16 19:13:28.036\u001b[0m | \u001b[1mINFO    \u001b[0m | \u001b[36mapikey.onshape\u001b[0m:\u001b[36mrequest\u001b[0m:\u001b[36m186\u001b[0m - \u001b[1m{'script': 'function(context is Context, queries) {    return lookupTableEvaluate(\"0.1*in\") * meter;}', 'queries': []}\u001b[0m\n",
      "\u001b[32m2023-07-16 19:13:28.036\u001b[0m | \u001b[1mINFO    \u001b[0m | \u001b[36mapikey.onshape\u001b[0m:\u001b[36mrequest\u001b[0m:\u001b[36m187\u001b[0m - \u001b[1m{'Content-Type': 'application/json', 'Date': 'Sun, 16 Jul 2023 17:13:28 GMT', 'On-Nonce': 'T0v8j6vcS7zDvyDw0POtcfdg0', 'Authorization': 'On kr6Z1LgdgLrlX8nchk9qE5s9:HmacSHA256:gNMzRcXOoliuUJrjVxTX76ftMDhsb0uVNfAthhLJDM8=', 'User-Agent': 'Onshape Python Sample App', 'Accept': 'application/json'}\u001b[0m\n",
      "\u001b[32m2023-07-16 19:13:28.037\u001b[0m | \u001b[1mINFO    \u001b[0m | \u001b[36mapikey.onshape\u001b[0m:\u001b[36mrequest\u001b[0m:\u001b[36m188\u001b[0m - \u001b[1mrequest url: https://cad.onshape.com/api/partstudios/d/1ffb81a71e5b402e966b9341/w/6e295017d1b34be684565c40/e/bb398e4615fe4025b34ea8f0/featurescript?\u001b[0m\n",
      "\u001b[32m2023-07-16 19:13:29.536\u001b[0m | \u001b[1mINFO    \u001b[0m | \u001b[36mapikey.onshape\u001b[0m:\u001b[36mrequest\u001b[0m:\u001b[36m214\u001b[0m - \u001b[1mrequest succeeded, details: {\n",
      "  \"console\" : \"\",\n",
      "  \"notices\" : [ ],\n",
      "  \"result\" : {\n",
      "    \"type\" : 1817,\n",
      "    \"typeName\" : \"BTFSValueWithUnits\",\n",
      "    \"message\" : {\n",
      "      \"value\" : 0.0025400000000000006,\n",
      "      \"unitToPower\" : [ {\n",
      "        \"key\" : \"METER\",\n",
      "        \"value\" : 2\n",
      "      } ],\n",
      "      \"typeTag\" : \"\"\n",
      "    }\n",
      "  },\n",
      "  \"serializationVersion\" : \"1.2.2\",\n",
      "  \"sourceMicroversion\" : \"5b8bd68b232271fbd8419f07\",\n",
      "  \"rejectMicroversionSkew\" : false,\n",
      "  \"microversionSkew\" : false,\n",
      "  \"libraryVersion\" : 1511\n",
      "}\u001b[0m\n"
     ]
    },
    {
     "data": {
      "text/plain": [
       "0.0025400000000000006"
      ]
     },
     "execution_count": 18,
     "metadata": {},
     "output_type": "execute_result"
    }
   ],
   "source": [
    "myclient=MyClient()\n",
    "myclient.expr2meter(did,wid,eid,\"0.1*in\")"
   ]
  },
  {
   "cell_type": "code",
   "execution_count": 8,
   "metadata": {},
   "outputs": [],
   "source": [
    "params={\"a\":12,\"b\":\"ae\"}\n",
    "\n",
    "params.update({\"a\":13})"
   ]
  },
  {
   "cell_type": "code",
   "execution_count": 9,
   "metadata": {},
   "outputs": [
    {
     "data": {
      "text/plain": [
       "{'a': 13, 'b': 'ae'}"
      ]
     },
     "execution_count": 9,
     "metadata": {},
     "output_type": "execute_result"
    }
   ],
   "source": [
    "params"
   ]
  },
  {
   "cell_type": "code",
   "execution_count": null,
   "metadata": {},
   "outputs": [],
   "source": []
  }
 ],
 "metadata": {
  "kernelspec": {
   "display_name": "point2cad",
   "language": "python",
   "name": "python3"
  },
  "language_info": {
   "codemirror_mode": {
    "name": "ipython",
    "version": 3
   },
   "file_extension": ".py",
   "mimetype": "text/x-python",
   "name": "python",
   "nbconvert_exporter": "python",
   "pygments_lexer": "ipython3",
   "version": "3.7.16"
  },
  "orig_nbformat": 4
 },
 "nbformat": 4,
 "nbformat_minor": 2
}
