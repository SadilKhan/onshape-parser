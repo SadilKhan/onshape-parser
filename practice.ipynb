{
 "cells": [
  {
   "cell_type": "code",
   "execution_count": 2,
   "metadata": {},
   "outputs": [],
   "source": [
    "import yaml\n",
    "from myclient import MyClient\n",
    "import json\n",
    "from rich import print\n",
    "import requests\n",
    "myclient=MyClient(logging=False)"
   ]
  },
  {
   "cell_type": "code",
   "execution_count": 3,
   "metadata": {},
   "outputs": [],
   "source": [
    "link=\"https://cad.onshape.com/documents/1ffb81a71e5b402e966b9341/w/6e295017d1b34be684565c40/e/bb398e4615fe4025b34ea8f0\"\n",
    "\n",
    "v_list = link.split(\"/\")\n",
    "did, wid, eid = v_list[-5], v_list[-3], v_list[-1]"
   ]
  },
  {
   "cell_type": "code",
   "execution_count": 14,
   "metadata": {},
   "outputs": [
    {
     "data": {
      "text/plain": [
       "{'edges': [{'id': 'JKB',\n",
       "   'param': {'type': 'Circle',\n",
       "    'coordSystem': {'origin': [-0.0322322, 0.0, -0.0086014],\n",
       "     'xAxis': [0.0, 0.0, -1.0],\n",
       "     'zAxis': [0.0, -1.0, 0.0]},\n",
       "    'radius': 0.00561975},\n",
       "   'vertices': ['IK', 'JKE']},\n",
       "  {'id': 'JKF',\n",
       "   'param': {'type': 'Line',\n",
       "    'direction': [0.0, 0.0, -1.0],\n",
       "    'origin': [-0.0322322, 0.0, -0.00298165]},\n",
       "   'vertices': ['IK', 'JKE']}],\n",
       " 'faces': [{'edges': ['JKB', 'JKF'],\n",
       "   'id': 'JKC',\n",
       "   'param': {'type': 'Plane',\n",
       "    'normal': [0.0, -1.0, 0.0],\n",
       "    'origin': [-0.02940546, 0.0, -0.0086014],\n",
       "    'x': [1.0, 0.0, 0.0]}}],\n",
       " 'vertices': [{'id': 'IK',\n",
       "   'param': {'Vector': (-0.0322322, 0.0, -0.01422115), 'unit': ('METER', 1)}},\n",
       "  {'id': 'JKE',\n",
       "   'param': {'Vector': (-0.0322322, 0.0, -0.00298165), 'unit': ('METER', 1)}}]}"
      ]
     },
     "execution_count": 14,
     "metadata": {},
     "output_type": "execute_result"
    }
   ],
   "source": [
    "myclient.eval_sketch_topology_by_adjacency(did, wid, eid, feat_id=\"FV77uVJcfQfEYIM\")"
   ]
  },
  {
   "cell_type": "code",
   "execution_count": 6,
   "metadata": {},
   "outputs": [],
   "source": [
    "with open(\"test.json\",\"r\") as f:\n",
    "    jsonData=json.load(f)\n",
    "\n",
    "with open(\"creds.json\",\"r\") as f:\n",
    "    credData=json.load(f)"
   ]
  },
  {
   "cell_type": "code",
   "execution_count": 17,
   "metadata": {},
   "outputs": [
    {
     "data": {
      "text/html": [
       "<pre style=\"white-space:pre;overflow-x:auto;line-height:normal;font-family:Menlo,'DejaVu Sans Mono',consolas,'Courier New',monospace\">FSKvoiZjdOfBlyo revolve\n",
       "</pre>\n"
      ],
      "text/plain": [
       "FSKvoiZjdOfBlyo revolve\n"
      ]
     },
     "metadata": {},
     "output_type": "display_data"
    },
    {
     "data": {
      "text/plain": [
       "{'bodyType': 'SOLID',\n",
       " 'operationType': 'NEW',\n",
       " 'entities': ['JGC'],\n",
       " 'surfaceEntities': [],\n",
       " 'axis': ['JFB'],\n",
       " 'revolveType': 'FULL',\n",
       " 'oppositeDirection': False,\n",
       " 'angle': '30.0*deg',\n",
       " 'angleBack': '30.0*deg',\n",
       " 'defaultScope': False,\n",
       " 'booleanScope': [],\n",
       " 'asVersion': 'V137_VERSION_HISTORY_ENTRY'}"
      ]
     },
     "execution_count": 17,
     "metadata": {},
     "output_type": "execute_result"
    }
   ],
   "source": [
    "i=1\n",
    "print(jsonData['features'][i]['message']['featureId'],jsonData['features'][i]['message']['featureType'])\n",
    "feature_data=jsonData['features'][i]['message']['parameters']\n",
    "get_param_dict(feature_data)"
   ]
  },
  {
   "cell_type": "code",
   "execution_count": 8,
   "metadata": {},
   "outputs": [],
   "source": [
    "def get_param_dict(feature):\n",
    "    param_dict={}\n",
    "    for _,param_item in enumerate(feature_data):\n",
    "        param_msg = param_item['message']\n",
    "        param_id = param_msg['parameterId']\n",
    "\n",
    "        if \"queries\" in param_msg:\n",
    "            param_value=[]\n",
    "            for j in range(len(param_msg['queries'])):\n",
    "                # Values look like  \"JGG\"\n",
    "                param_value.extend(param_msg['queries'][j]['message']['geometryIds'])\n",
    "        # Values look like '30.0*deg'\n",
    "        elif 'expression' in param_msg:\n",
    "            param_value = param_msg['expression']\n",
    "        elif 'value' in param_msg:\n",
    "            param_value = param_msg['value']\n",
    "        else:\n",
    "            raise NotImplementedError('param_msg:\\n{}'.format(param_msg))\n",
    "\n",
    "        param_dict.update({param_id: param_value})\n",
    "    return param_dict"
   ]
  },
  {
   "cell_type": "code",
   "execution_count": 64,
   "metadata": {},
   "outputs": [
    {
     "data": {
      "text/plain": [
       "{'entities': ['JQK', 'JQG'],\n",
       " 'radius': '0.05*in',\n",
       " 'tangentPropagation': True,\n",
       " 'rho': '0.5',\n",
       " 'asVersion': 'V608_MERGE_FROM_TOOLS',\n",
       " 'allowEdgeOverflow': False}"
      ]
     },
     "execution_count": 64,
     "metadata": {},
     "output_type": "execute_result"
    }
   ],
   "source": [
    "param_dict"
   ]
  },
  {
   "cell_type": "code",
   "execution_count": 18,
   "metadata": {},
   "outputs": [
    {
     "name": "stdout",
     "output_type": "stream",
     "text": [
      "\u001b[32m2023-07-16 19:13:28.034\u001b[0m | \u001b[1mINFO    \u001b[0m | \u001b[36mapikey.onshape\u001b[0m:\u001b[36m__init__\u001b[0m:\u001b[36m80\u001b[0m - \u001b[1monshape instance created: url = https://cad.onshape.com, access key = b'kr6Z1LgdgLrlX8nchk9qE5s9'\u001b[0m\n",
      "\u001b[32m2023-07-16 19:13:28.035\u001b[0m | \u001b[1mINFO    \u001b[0m | \u001b[36mapikey.onshape\u001b[0m:\u001b[36m_make_nonce\u001b[0m:\u001b[36m94\u001b[0m - \u001b[1mnonce created: T0v8j6vcS7zDvyDw0POtcfdg0\u001b[0m\n",
      "\u001b[32m2023-07-16 19:13:28.035\u001b[0m | \u001b[1mINFO    \u001b[0m | \u001b[36mapikey.onshape\u001b[0m:\u001b[36m_make_auth\u001b[0m:\u001b[36m124\u001b[0m - \u001b[1m{'query': '', 'hmac_str': b'post\\nt0v8j6vcs7zdvydw0potcfdg0\\nsun, 16 jul 2023 17:13:28 gmt\\napplication/json\\n/api/partstudios/d/1ffb81a71e5b402e966b9341/w/6e295017d1b34be684565c40/e/bb398e4615fe4025b34ea8f0/featurescript\\n\\n', 'signature': b'gNMzRcXOoliuUJrjVxTX76ftMDhsb0uVNfAthhLJDM8=', 'auth': 'On kr6Z1LgdgLrlX8nchk9qE5s9:HmacSHA256:gNMzRcXOoliuUJrjVxTX76ftMDhsb0uVNfAthhLJDM8='}\u001b[0m\n",
      "\u001b[32m2023-07-16 19:13:28.036\u001b[0m | \u001b[1mINFO    \u001b[0m | \u001b[36mapikey.onshape\u001b[0m:\u001b[36mrequest\u001b[0m:\u001b[36m186\u001b[0m - \u001b[1m{'script': 'function(context is Context, queries) {    return lookupTableEvaluate(\"0.1*in\") * meter;}', 'queries': []}\u001b[0m\n",
      "\u001b[32m2023-07-16 19:13:28.036\u001b[0m | \u001b[1mINFO    \u001b[0m | \u001b[36mapikey.onshape\u001b[0m:\u001b[36mrequest\u001b[0m:\u001b[36m187\u001b[0m - \u001b[1m{'Content-Type': 'application/json', 'Date': 'Sun, 16 Jul 2023 17:13:28 GMT', 'On-Nonce': 'T0v8j6vcS7zDvyDw0POtcfdg0', 'Authorization': 'On kr6Z1LgdgLrlX8nchk9qE5s9:HmacSHA256:gNMzRcXOoliuUJrjVxTX76ftMDhsb0uVNfAthhLJDM8=', 'User-Agent': 'Onshape Python Sample App', 'Accept': 'application/json'}\u001b[0m\n",
      "\u001b[32m2023-07-16 19:13:28.037\u001b[0m | \u001b[1mINFO    \u001b[0m | \u001b[36mapikey.onshape\u001b[0m:\u001b[36mrequest\u001b[0m:\u001b[36m188\u001b[0m - \u001b[1mrequest url: https://cad.onshape.com/api/partstudios/d/1ffb81a71e5b402e966b9341/w/6e295017d1b34be684565c40/e/bb398e4615fe4025b34ea8f0/featurescript?\u001b[0m\n",
      "\u001b[32m2023-07-16 19:13:29.536\u001b[0m | \u001b[1mINFO    \u001b[0m | \u001b[36mapikey.onshape\u001b[0m:\u001b[36mrequest\u001b[0m:\u001b[36m214\u001b[0m - \u001b[1mrequest succeeded, details: {\n",
      "  \"console\" : \"\",\n",
      "  \"notices\" : [ ],\n",
      "  \"result\" : {\n",
      "    \"type\" : 1817,\n",
      "    \"typeName\" : \"BTFSValueWithUnits\",\n",
      "    \"message\" : {\n",
      "      \"value\" : 0.0025400000000000006,\n",
      "      \"unitToPower\" : [ {\n",
      "        \"key\" : \"METER\",\n",
      "        \"value\" : 2\n",
      "      } ],\n",
      "      \"typeTag\" : \"\"\n",
      "    }\n",
      "  },\n",
      "  \"serializationVersion\" : \"1.2.2\",\n",
      "  \"sourceMicroversion\" : \"5b8bd68b232271fbd8419f07\",\n",
      "  \"rejectMicroversionSkew\" : false,\n",
      "  \"microversionSkew\" : false,\n",
      "  \"libraryVersion\" : 1511\n",
      "}\u001b[0m\n"
     ]
    },
    {
     "data": {
      "text/plain": [
       "0.0025400000000000006"
      ]
     },
     "execution_count": 18,
     "metadata": {},
     "output_type": "execute_result"
    }
   ],
   "source": [
    "myclient=MyClient()\n",
    "myclient.expr2meter(did,wid,eid,\"0.1*in\")"
   ]
  },
  {
   "cell_type": "code",
   "execution_count": 19,
   "metadata": {},
   "outputs": [],
   "source": [
    "def expr2radians(did, wid, eid, expr):\n",
    "    \"\"\"convert value expresson to meter unit\"\"\"\n",
    "    body = {\n",
    "        \"script\":\n",
    "            \"function(context is Context, queries) { \"\n",
    "            \"   return lookupTableEvaluate(\\\"%s\\\") * deg;\" % (expr) +\n",
    "            \"}\",\n",
    "        \"queries\": []\n",
    "    }\n",
    "\n",
    "    res = self._api.request('post', '/api/partstudios/d/' + did + '/w/' + wid + '/e/' + eid +\n",
    "                            '/featurescript', body=body).json()\n",
    "    \n",
    "    return res['result']['message']['value']"
   ]
  },
  {
   "cell_type": "code",
   "execution_count": 9,
   "metadata": {},
   "outputs": [
    {
     "data": {
      "text/plain": [
       "{'a': 13, 'b': 'ae'}"
      ]
     },
     "execution_count": 9,
     "metadata": {},
     "output_type": "execute_result"
    }
   ],
   "source": [
    "expr2radians(did,wid,eid,)"
   ]
  },
  {
   "cell_type": "code",
   "execution_count": 22,
   "metadata": {},
   "outputs": [
    {
     "data": {
      "text/html": [
       "<pre style=\"white-space:pre;overflow-x:auto;line-height:normal;font-family:Menlo,'DejaVu Sans Mono',consolas,'Courier New',monospace\">No lookup table variables found in the document.\n",
       "</pre>\n"
      ],
      "text/plain": [
       "No lookup table variables found in the document.\n"
      ]
     },
     "metadata": {},
     "output_type": "display_data"
    }
   ],
   "source": [
    "import requests\n",
    "\n",
    "# Specify the API endpoint for retrieving document information\n",
    "url = f\"https://cad.onshape.com/api/documents/{did}/\"\n",
    "\n",
    "# Make a GET request to retrieve the document details\n",
    "response = requests.get(url)\n",
    "\n",
    "# Check if the request was successful\n",
    "if response.status_code == 200:\n",
    "    # Get the JSON response\n",
    "    data = response.json()\n",
    "\n",
    "    # Check if the document has lookup table variables\n",
    "    if \"lookupTables\" in data:\n",
    "        # Get the lookup table variables\n",
    "        lookup_tables = data[\"lookupTables\"]\n",
    "\n",
    "        # Print the lookup table variables\n",
    "        for variable in lookup_tables:\n",
    "            variable_name = variable[\"name\"]\n",
    "            print(f\"Lookup Table Variable: {variable_name}\")\n",
    "\n",
    "    else:\n",
    "        print(\"No lookup table variables found in the document.\")\n",
    "\n",
    "else:\n",
    "    print(\"Failed to retrieve document information.\")\n"
   ]
  },
  {
   "cell_type": "code",
   "execution_count": 23,
   "metadata": {},
   "outputs": [
    {
     "data": {
      "text/plain": [
       "{'message': 'Resource does not exist, or you do not have permission to access it.',\n",
       " 'moreInfoUrl': None,\n",
       " 'status': 403,\n",
       " 'code': 1002}"
      ]
     },
     "execution_count": 23,
     "metadata": {},
     "output_type": "execute_result"
    }
   ],
   "source": [
    "data"
   ]
  }
 ],
 "metadata": {
  "kernelspec": {
   "display_name": "point2cad",
   "language": "python",
   "name": "python3"
  },
  "language_info": {
   "codemirror_mode": {
    "name": "ipython",
    "version": 3
   },
   "file_extension": ".py",
   "mimetype": "text/x-python",
   "name": "python",
   "nbconvert_exporter": "python",
   "pygments_lexer": "ipython3",
   "version": "3.7.16"
  },
  "orig_nbformat": 4
 },
 "nbformat": 4,
 "nbformat_minor": 2
}
