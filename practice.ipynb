{
 "cells": [
  {
   "cell_type": "code",
   "execution_count": 1,
   "metadata": {},
   "outputs": [],
   "source": [
    "import yaml\n",
    "from myclient import MyClient\n",
    "import json\n",
    "from rich import print\n",
    "import requests\n",
    "import base64\n",
    "myclient=MyClient(logging=False)"
   ]
  },
  {
   "cell_type": "code",
   "execution_count": 2,
   "metadata": {},
   "outputs": [],
   "source": [
    "with open(\"/home/mkhan/Codes/onshape-cad-parser/creds.json\",\"r\") as f:\n",
    "    data=json.load(f)\n",
    "\n",
    "data=list(data.values())[0]"
   ]
  },
  {
   "cell_type": "code",
   "execution_count": 3,
   "metadata": {},
   "outputs": [],
   "source": [
    "data_id=\"00000029\"\n",
    "link=\"https://cad.onshape.com/api/partstudios/d/ad34a3f60c4a4caa99646600/w/90b1c0593d914ac7bdde17a3/e/f5cef14c36ad4428a6af59f0\"\n",
    "\n",
    "v_list = link.split(\"/\")\n",
    "did, wid, eid = v_list[-5], v_list[-3], v_list[-1]\n",
    "\n",
    "url = f\"https://cad.onshape.com/api/documents/{did}/workspaces/{wid}/elements/{eid}/features\"\n",
    "params = {}\n",
    "credentials = (data[\"access_key\"],data[\"secret_key\"])\n",
    "\n",
    "# Define the header for the request \n",
    "headers = {'Accept': 'application/json;charset=UTF-8;qs=0.09',\n",
    "           'Content-Type': 'application/json'}\n",
    "\n",
    "# # Putting everything together to make the API request \n",
    "# response = requests.get(link, \n",
    "#                         params=params, \n",
    "#                         auth=credentials, \n",
    "#                         headers=headers)\n",
    "\n",
    "# res=response.json()"
   ]
  },
  {
   "cell_type": "code",
   "execution_count": 5,
   "metadata": {},
   "outputs": [],
   "source": [
    "import re,math\n",
    "def deg2rad(expr):\n",
    "    \"\"\"Convert value expression to radians unit\"\"\"\n",
    "    # Use regular expression to find all numeric values in the expression string\n",
    "    numeric_values = re.findall(r'[+-]?\\d+(?:\\.\\d+)?', expr)\n",
    "\n",
    "    # Convert each numeric value to radians and sum them up\n",
    "    radians = sum(math.radians(float(value)) for value in numeric_values)\n",
    "    return radians"
   ]
  },
  {
   "cell_type": "code",
   "execution_count": 7,
   "metadata": {},
   "outputs": [
    {
     "data": {
      "text/plain": [
       "0.5293583621298801"
      ]
     },
     "execution_count": 7,
     "metadata": {},
     "output_type": "execute_result"
    }
   ],
   "source": [
    "deg2rad(\"30.330*deg\")"
   ]
  },
  {
   "cell_type": "code",
   "execution_count": 5,
   "metadata": {},
   "outputs": [],
   "source": [
    "response=myclient.get_entity_by_id(did,wid,eid,['JLH'],'FACE')"
   ]
  },
  {
   "cell_type": "code",
   "execution_count": 9,
   "metadata": {},
   "outputs": [
    {
     "data": {
      "text/plain": [
       "{'console': '',\n",
       " 'notices': [{'type': 227,\n",
       "   'typeName': 'BTNotice',\n",
       "   'message': {'level': 'WARNING',\n",
       "    'type': 'SEMANTIC',\n",
       "    'message': 'Variable console not found.',\n",
       "    'stackTrace': [{'type': 226,\n",
       "      'typeName': 'BTLocationInfo',\n",
       "      'message': {'document': 'f5cef14c36ad4428a6af59f0',\n",
       "       'version': '28970fda968c205f58c8408a',\n",
       "       'topLevel': '',\n",
       "       'parseNodeId': 'P1urxboNfF6soAPD9',\n",
       "       'character': 0,\n",
       "       'line': 0,\n",
       "       'column': 0,\n",
       "       'endCharacter': 0,\n",
       "       'endLine': 0,\n",
       "       'endColumn': 0,\n",
       "       'languageVersion': 0,\n",
       "       'moduleIds': {'type': 0},\n",
       "       'elementMicroversion': '28970fda968c205f58c8408a',\n",
       "       'nodeId': 'iV+a0cIwbyqrt/cq'}}],\n",
       "    'tryNode': {'type': 0},\n",
       "    'parameterId': '',\n",
       "    'nodeId': 'oIckOsqmy21lMaID'}},\n",
       "  {'type': 227,\n",
       "   'typeName': 'BTNotice',\n",
       "   'message': {'level': 'ERROR',\n",
       "    'type': 'SEMANTIC',\n",
       "    'message': 'Variable console not found.',\n",
       "    'stackTrace': [{'type': 226,\n",
       "      'typeName': 'BTLocationInfo',\n",
       "      'message': {'document': 'f5cef14c36ad4428a6af59f0',\n",
       "       'version': '28970fda968c205f58c8408a',\n",
       "       'topLevel': 'main',\n",
       "       'parseNodeId': 'PLw6bvTzuQn+LfHux',\n",
       "       'character': 0,\n",
       "       'line': 0,\n",
       "       'column': 0,\n",
       "       'endCharacter': 0,\n",
       "       'endLine': 0,\n",
       "       'endColumn': 0,\n",
       "       'languageVersion': 0,\n",
       "       'moduleIds': {'type': 0},\n",
       "       'elementMicroversion': '28970fda968c205f58c8408a',\n",
       "       'nodeId': 'jQm/j550ybgT59Og'}},\n",
       "     {'type': 226,\n",
       "      'typeName': 'BTLocationInfo',\n",
       "      'message': {'document': 'f5cef14c36ad4428a6af59f0',\n",
       "       'version': '28970fda968c205f58c8408a',\n",
       "       'topLevel': '',\n",
       "       'parseNodeId': 'PSGxnGfINZ1/KgBU+',\n",
       "       'character': 0,\n",
       "       'line': 0,\n",
       "       'column': 0,\n",
       "       'endCharacter': 0,\n",
       "       'endLine': 0,\n",
       "       'endColumn': 0,\n",
       "       'languageVersion': 0,\n",
       "       'moduleIds': {'type': 0},\n",
       "       'elementMicroversion': '28970fda968c205f58c8408a',\n",
       "       'nodeId': '0VvxpI63kEeKNNEj'}}],\n",
       "    'tryNode': {'type': 0},\n",
       "    'parameterId': '',\n",
       "    'nodeId': 'C5RoZuazPdcyM428'}}],\n",
       " 'result': {'type': 0},\n",
       " 'serializationVersion': '1.2.2',\n",
       " 'sourceMicroversion': '67a919f6c00a014bee83f9e2',\n",
       " 'rejectMicroversionSkew': False,\n",
       " 'microversionSkew': False,\n",
       " 'libraryVersion': 1511}"
      ]
     },
     "execution_count": 9,
     "metadata": {},
     "output_type": "execute_result"
    }
   ],
   "source": [
    "myclient.get_entity_by_id(did,wid,eid,['JLH'],'FACE').json()"
   ]
  },
  {
   "cell_type": "code",
   "execution_count": 7,
   "metadata": {},
   "outputs": [
    {
     "data": {
      "text/plain": [
       "{'type': 0}"
      ]
     },
     "execution_count": 7,
     "metadata": {},
     "output_type": "execute_result"
    }
   ],
   "source": [
    "response.json()['result']"
   ]
  },
  {
   "cell_type": "code",
   "execution_count": 51,
   "metadata": {},
   "outputs": [
    {
     "ename": "KeyError",
     "evalue": "'message'",
     "output_type": "error",
     "traceback": [
      "\u001b[0;31m---------------------------------------------------------------------------\u001b[0m",
      "\u001b[0;31mKeyError\u001b[0m                                  Traceback (most recent call last)",
      "Cell \u001b[0;32mIn[51], line 1\u001b[0m\n\u001b[0;32m----> 1\u001b[0m message\u001b[39m=\u001b[39mresponse\u001b[39m.\u001b[39;49mjson()[\u001b[39m'\u001b[39;49m\u001b[39mresult\u001b[39;49m\u001b[39m'\u001b[39;49m][\u001b[39m'\u001b[39;49m\u001b[39mmessage\u001b[39;49m\u001b[39m'\u001b[39;49m][\u001b[39m'\u001b[39m\u001b[39mvalue\u001b[39m\u001b[39m'\u001b[39m]\n",
      "\u001b[0;31mKeyError\u001b[0m: 'message'"
     ]
    }
   ],
   "source": [
    "message=response.json()['result']['message']['value']"
   ]
  },
  {
   "cell_type": "code",
   "execution_count": 39,
   "metadata": {},
   "outputs": [
    {
     "data": {
      "text/html": [
       "<pre style=\"white-space:pre;overflow-x:auto;line-height:normal;font-family:Menlo,'DejaVu Sans Mono',consolas,'Courier New',monospace\"><span style=\"font-weight: bold\">{</span>\n",
       "    <span style=\"color: #008000; text-decoration-color: #008000\">'type'</span>: <span style=\"color: #008080; text-decoration-color: #008080; font-weight: bold\">2062</span>,\n",
       "    <span style=\"color: #008000; text-decoration-color: #008000\">'typeName'</span>: <span style=\"color: #008000; text-decoration-color: #008000\">'BTFSValueMap'</span>,\n",
       "    <span style=\"color: #008000; text-decoration-color: #008000\">'message'</span>: <span style=\"font-weight: bold\">{</span>\n",
       "        <span style=\"color: #008000; text-decoration-color: #008000\">'value'</span>: <span style=\"font-weight: bold\">[</span>\n",
       "            <span style=\"font-weight: bold\">{</span>\n",
       "                <span style=\"color: #008000; text-decoration-color: #008000\">'type'</span>: <span style=\"color: #008080; text-decoration-color: #008080; font-weight: bold\">2077</span>,\n",
       "                <span style=\"color: #008000; text-decoration-color: #008000\">'typeName'</span>: <span style=\"color: #008000; text-decoration-color: #008000\">'BTFSValueMapEntry'</span>,\n",
       "                <span style=\"color: #008000; text-decoration-color: #008000\">'message'</span>: <span style=\"font-weight: bold\">{</span>\n",
       "                    <span style=\"color: #008000; text-decoration-color: #008000\">'key'</span>: <span style=\"font-weight: bold\">{</span>\n",
       "                        <span style=\"color: #008000; text-decoration-color: #008000\">'type'</span>: <span style=\"color: #008080; text-decoration-color: #008080; font-weight: bold\">1422</span>,\n",
       "                        <span style=\"color: #008000; text-decoration-color: #008000\">'typeName'</span>: <span style=\"color: #008000; text-decoration-color: #008000\">'BTFSValueString'</span>,\n",
       "                        <span style=\"color: #008000; text-decoration-color: #008000\">'message'</span>: <span style=\"font-weight: bold\">{</span><span style=\"color: #008000; text-decoration-color: #008000\">'value'</span>: <span style=\"color: #008000; text-decoration-color: #008000\">'direction'</span>, <span style=\"color: #008000; text-decoration-color: #008000\">'typeTag'</span>: <span style=\"color: #008000; text-decoration-color: #008000\">''</span><span style=\"font-weight: bold\">}</span>\n",
       "                    <span style=\"font-weight: bold\">}</span>,\n",
       "                    <span style=\"color: #008000; text-decoration-color: #008000\">'value'</span>: <span style=\"font-weight: bold\">{</span>\n",
       "                        <span style=\"color: #008000; text-decoration-color: #008000\">'type'</span>: <span style=\"color: #008080; text-decoration-color: #008080; font-weight: bold\">1499</span>,\n",
       "                        <span style=\"color: #008000; text-decoration-color: #008000\">'typeName'</span>: <span style=\"color: #008000; text-decoration-color: #008000\">'BTFSValueArray'</span>,\n",
       "                        <span style=\"color: #008000; text-decoration-color: #008000\">'message'</span>: <span style=\"font-weight: bold\">{</span>\n",
       "                            <span style=\"color: #008000; text-decoration-color: #008000\">'value'</span>: <span style=\"font-weight: bold\">[</span>\n",
       "                                <span style=\"font-weight: bold\">{</span>\n",
       "                                    <span style=\"color: #008000; text-decoration-color: #008000\">'type'</span>: <span style=\"color: #008080; text-decoration-color: #008080; font-weight: bold\">772</span>,\n",
       "                                    <span style=\"color: #008000; text-decoration-color: #008000\">'typeName'</span>: <span style=\"color: #008000; text-decoration-color: #008000\">'BTFSValueNumber'</span>,\n",
       "                                    <span style=\"color: #008000; text-decoration-color: #008000\">'message'</span>: <span style=\"font-weight: bold\">{</span><span style=\"color: #008000; text-decoration-color: #008000\">'value'</span>: <span style=\"color: #008080; text-decoration-color: #008080; font-weight: bold\">1.0112740684418475e-15</span>, <span style=\"color: #008000; text-decoration-color: #008000\">'typeTag'</span>: <span style=\"color: #008000; text-decoration-color: #008000\">''</span><span style=\"font-weight: bold\">}</span>\n",
       "                                <span style=\"font-weight: bold\">}</span>,\n",
       "                                <span style=\"font-weight: bold\">{</span>\n",
       "                                    <span style=\"color: #008000; text-decoration-color: #008000\">'type'</span>: <span style=\"color: #008080; text-decoration-color: #008080; font-weight: bold\">772</span>,\n",
       "                                    <span style=\"color: #008000; text-decoration-color: #008000\">'typeName'</span>: <span style=\"color: #008000; text-decoration-color: #008000\">'BTFSValueNumber'</span>,\n",
       "                                    <span style=\"color: #008000; text-decoration-color: #008000\">'message'</span>: <span style=\"font-weight: bold\">{</span><span style=\"color: #008000; text-decoration-color: #008000\">'value'</span>: <span style=\"color: #008080; text-decoration-color: #008080; font-weight: bold\">0.0</span>, <span style=\"color: #008000; text-decoration-color: #008000\">'typeTag'</span>: <span style=\"color: #008000; text-decoration-color: #008000\">''</span><span style=\"font-weight: bold\">}</span>\n",
       "                                <span style=\"font-weight: bold\">}</span>,\n",
       "                                <span style=\"font-weight: bold\">{</span>\n",
       "                                    <span style=\"color: #008000; text-decoration-color: #008000\">'type'</span>: <span style=\"color: #008080; text-decoration-color: #008080; font-weight: bold\">772</span>,\n",
       "                                    <span style=\"color: #008000; text-decoration-color: #008000\">'typeName'</span>: <span style=\"color: #008000; text-decoration-color: #008000\">'BTFSValueNumber'</span>,\n",
       "                                    <span style=\"color: #008000; text-decoration-color: #008000\">'message'</span>: <span style=\"font-weight: bold\">{</span><span style=\"color: #008000; text-decoration-color: #008000\">'value'</span>: <span style=\"color: #008080; text-decoration-color: #008080; font-weight: bold\">1.0</span>, <span style=\"color: #008000; text-decoration-color: #008000\">'typeTag'</span>: <span style=\"color: #008000; text-decoration-color: #008000\">''</span><span style=\"font-weight: bold\">}</span>\n",
       "                                <span style=\"font-weight: bold\">}</span>\n",
       "                            <span style=\"font-weight: bold\">]</span>,\n",
       "                            <span style=\"color: #008000; text-decoration-color: #008000\">'typeTag'</span>: <span style=\"color: #008000; text-decoration-color: #008000\">'Vector'</span>\n",
       "                        <span style=\"font-weight: bold\">}</span>\n",
       "                    <span style=\"font-weight: bold\">}</span>\n",
       "                <span style=\"font-weight: bold\">}</span>\n",
       "            <span style=\"font-weight: bold\">}</span>,\n",
       "            <span style=\"font-weight: bold\">{</span>\n",
       "                <span style=\"color: #008000; text-decoration-color: #008000\">'type'</span>: <span style=\"color: #008080; text-decoration-color: #008080; font-weight: bold\">2077</span>,\n",
       "                <span style=\"color: #008000; text-decoration-color: #008000\">'typeName'</span>: <span style=\"color: #008000; text-decoration-color: #008000\">'BTFSValueMapEntry'</span>,\n",
       "                <span style=\"color: #008000; text-decoration-color: #008000\">'message'</span>: <span style=\"font-weight: bold\">{</span>\n",
       "                    <span style=\"color: #008000; text-decoration-color: #008000\">'key'</span>: <span style=\"font-weight: bold\">{</span>\n",
       "                        <span style=\"color: #008000; text-decoration-color: #008000\">'type'</span>: <span style=\"color: #008080; text-decoration-color: #008080; font-weight: bold\">1422</span>,\n",
       "                        <span style=\"color: #008000; text-decoration-color: #008000\">'typeName'</span>: <span style=\"color: #008000; text-decoration-color: #008000\">'BTFSValueString'</span>,\n",
       "                        <span style=\"color: #008000; text-decoration-color: #008000\">'message'</span>: <span style=\"font-weight: bold\">{</span><span style=\"color: #008000; text-decoration-color: #008000\">'value'</span>: <span style=\"color: #008000; text-decoration-color: #008000\">'origin'</span>, <span style=\"color: #008000; text-decoration-color: #008000\">'typeTag'</span>: <span style=\"color: #008000; text-decoration-color: #008000\">''</span><span style=\"font-weight: bold\">}</span>\n",
       "                    <span style=\"font-weight: bold\">}</span>,\n",
       "                    <span style=\"color: #008000; text-decoration-color: #008000\">'value'</span>: <span style=\"font-weight: bold\">{</span>\n",
       "                        <span style=\"color: #008000; text-decoration-color: #008000\">'type'</span>: <span style=\"color: #008080; text-decoration-color: #008080; font-weight: bold\">1499</span>,\n",
       "                        <span style=\"color: #008000; text-decoration-color: #008000\">'typeName'</span>: <span style=\"color: #008000; text-decoration-color: #008000\">'BTFSValueArray'</span>,\n",
       "                        <span style=\"color: #008000; text-decoration-color: #008000\">'message'</span>: <span style=\"font-weight: bold\">{</span>\n",
       "                            <span style=\"color: #008000; text-decoration-color: #008000\">'value'</span>: <span style=\"font-weight: bold\">[</span>\n",
       "                                <span style=\"font-weight: bold\">{</span>\n",
       "                                    <span style=\"color: #008000; text-decoration-color: #008000\">'type'</span>: <span style=\"color: #008080; text-decoration-color: #008080; font-weight: bold\">1817</span>,\n",
       "                                    <span style=\"color: #008000; text-decoration-color: #008000\">'typeName'</span>: <span style=\"color: #008000; text-decoration-color: #008000\">'BTFSValueWithUnits'</span>,\n",
       "                                    <span style=\"color: #008000; text-decoration-color: #008000\">'message'</span>: <span style=\"font-weight: bold\">{</span>\n",
       "                                        <span style=\"color: #008000; text-decoration-color: #008000\">'value'</span>: <span style=\"color: #008080; text-decoration-color: #008080; font-weight: bold\">0.0</span>,\n",
       "                                        <span style=\"color: #008000; text-decoration-color: #008000\">'unitToPower'</span>: <span style=\"font-weight: bold\">[{</span><span style=\"color: #008000; text-decoration-color: #008000\">'key'</span>: <span style=\"color: #008000; text-decoration-color: #008000\">'METER'</span>, <span style=\"color: #008000; text-decoration-color: #008000\">'value'</span>: <span style=\"color: #008080; text-decoration-color: #008080; font-weight: bold\">1</span><span style=\"font-weight: bold\">}]</span>,\n",
       "                                        <span style=\"color: #008000; text-decoration-color: #008000\">'typeTag'</span>: <span style=\"color: #008000; text-decoration-color: #008000\">''</span>\n",
       "                                    <span style=\"font-weight: bold\">}</span>\n",
       "                                <span style=\"font-weight: bold\">}</span>,\n",
       "                                <span style=\"font-weight: bold\">{</span>\n",
       "                                    <span style=\"color: #008000; text-decoration-color: #008000\">'type'</span>: <span style=\"color: #008080; text-decoration-color: #008080; font-weight: bold\">1817</span>,\n",
       "                                    <span style=\"color: #008000; text-decoration-color: #008000\">'typeName'</span>: <span style=\"color: #008000; text-decoration-color: #008000\">'BTFSValueWithUnits'</span>,\n",
       "                                    <span style=\"color: #008000; text-decoration-color: #008000\">'message'</span>: <span style=\"font-weight: bold\">{</span>\n",
       "                                        <span style=\"color: #008000; text-decoration-color: #008000\">'value'</span>: <span style=\"color: #008080; text-decoration-color: #008080; font-weight: bold\">0.0</span>,\n",
       "                                        <span style=\"color: #008000; text-decoration-color: #008000\">'unitToPower'</span>: <span style=\"font-weight: bold\">[{</span><span style=\"color: #008000; text-decoration-color: #008000\">'key'</span>: <span style=\"color: #008000; text-decoration-color: #008000\">'METER'</span>, <span style=\"color: #008000; text-decoration-color: #008000\">'value'</span>: <span style=\"color: #008080; text-decoration-color: #008080; font-weight: bold\">1</span><span style=\"font-weight: bold\">}]</span>,\n",
       "                                        <span style=\"color: #008000; text-decoration-color: #008000\">'typeTag'</span>: <span style=\"color: #008000; text-decoration-color: #008000\">''</span>\n",
       "                                    <span style=\"font-weight: bold\">}</span>\n",
       "                                <span style=\"font-weight: bold\">}</span>,\n",
       "                                <span style=\"font-weight: bold\">{</span>\n",
       "                                    <span style=\"color: #008000; text-decoration-color: #008000\">'type'</span>: <span style=\"color: #008080; text-decoration-color: #008080; font-weight: bold\">1817</span>,\n",
       "                                    <span style=\"color: #008000; text-decoration-color: #008000\">'typeName'</span>: <span style=\"color: #008000; text-decoration-color: #008000\">'BTFSValueWithUnits'</span>,\n",
       "                                    <span style=\"color: #008000; text-decoration-color: #008000\">'message'</span>: <span style=\"font-weight: bold\">{</span>\n",
       "                                        <span style=\"color: #008000; text-decoration-color: #008000\">'value'</span>: <span style=\"color: #008080; text-decoration-color: #008080; font-weight: bold\">-0.001115364721044898</span>,\n",
       "                                        <span style=\"color: #008000; text-decoration-color: #008000\">'unitToPower'</span>: <span style=\"font-weight: bold\">[{</span><span style=\"color: #008000; text-decoration-color: #008000\">'key'</span>: <span style=\"color: #008000; text-decoration-color: #008000\">'METER'</span>, <span style=\"color: #008000; text-decoration-color: #008000\">'value'</span>: <span style=\"color: #008080; text-decoration-color: #008080; font-weight: bold\">1</span><span style=\"font-weight: bold\">}]</span>,\n",
       "                                        <span style=\"color: #008000; text-decoration-color: #008000\">'typeTag'</span>: <span style=\"color: #008000; text-decoration-color: #008000\">''</span>\n",
       "                                    <span style=\"font-weight: bold\">}</span>\n",
       "                                <span style=\"font-weight: bold\">}</span>\n",
       "                            <span style=\"font-weight: bold\">]</span>,\n",
       "                            <span style=\"color: #008000; text-decoration-color: #008000\">'typeTag'</span>: <span style=\"color: #008000; text-decoration-color: #008000\">'Vector'</span>\n",
       "                        <span style=\"font-weight: bold\">}</span>\n",
       "                    <span style=\"font-weight: bold\">}</span>\n",
       "                <span style=\"font-weight: bold\">}</span>\n",
       "            <span style=\"font-weight: bold\">}</span>\n",
       "        <span style=\"font-weight: bold\">]</span>,\n",
       "        <span style=\"color: #008000; text-decoration-color: #008000\">'typeTag'</span>: <span style=\"color: #008000; text-decoration-color: #008000\">'Line'</span>\n",
       "    <span style=\"font-weight: bold\">}</span>\n",
       "<span style=\"font-weight: bold\">}</span>\n",
       "</pre>\n"
      ],
      "text/plain": [
       "\u001b[1m{\u001b[0m\n",
       "    \u001b[32m'type'\u001b[0m: \u001b[1;36m2062\u001b[0m,\n",
       "    \u001b[32m'typeName'\u001b[0m: \u001b[32m'BTFSValueMap'\u001b[0m,\n",
       "    \u001b[32m'message'\u001b[0m: \u001b[1m{\u001b[0m\n",
       "        \u001b[32m'value'\u001b[0m: \u001b[1m[\u001b[0m\n",
       "            \u001b[1m{\u001b[0m\n",
       "                \u001b[32m'type'\u001b[0m: \u001b[1;36m2077\u001b[0m,\n",
       "                \u001b[32m'typeName'\u001b[0m: \u001b[32m'BTFSValueMapEntry'\u001b[0m,\n",
       "                \u001b[32m'message'\u001b[0m: \u001b[1m{\u001b[0m\n",
       "                    \u001b[32m'key'\u001b[0m: \u001b[1m{\u001b[0m\n",
       "                        \u001b[32m'type'\u001b[0m: \u001b[1;36m1422\u001b[0m,\n",
       "                        \u001b[32m'typeName'\u001b[0m: \u001b[32m'BTFSValueString'\u001b[0m,\n",
       "                        \u001b[32m'message'\u001b[0m: \u001b[1m{\u001b[0m\u001b[32m'value'\u001b[0m: \u001b[32m'direction'\u001b[0m, \u001b[32m'typeTag'\u001b[0m: \u001b[32m''\u001b[0m\u001b[1m}\u001b[0m\n",
       "                    \u001b[1m}\u001b[0m,\n",
       "                    \u001b[32m'value'\u001b[0m: \u001b[1m{\u001b[0m\n",
       "                        \u001b[32m'type'\u001b[0m: \u001b[1;36m1499\u001b[0m,\n",
       "                        \u001b[32m'typeName'\u001b[0m: \u001b[32m'BTFSValueArray'\u001b[0m,\n",
       "                        \u001b[32m'message'\u001b[0m: \u001b[1m{\u001b[0m\n",
       "                            \u001b[32m'value'\u001b[0m: \u001b[1m[\u001b[0m\n",
       "                                \u001b[1m{\u001b[0m\n",
       "                                    \u001b[32m'type'\u001b[0m: \u001b[1;36m772\u001b[0m,\n",
       "                                    \u001b[32m'typeName'\u001b[0m: \u001b[32m'BTFSValueNumber'\u001b[0m,\n",
       "                                    \u001b[32m'message'\u001b[0m: \u001b[1m{\u001b[0m\u001b[32m'value'\u001b[0m: \u001b[1;36m1.0112740684418475e-15\u001b[0m, \u001b[32m'typeTag'\u001b[0m: \u001b[32m''\u001b[0m\u001b[1m}\u001b[0m\n",
       "                                \u001b[1m}\u001b[0m,\n",
       "                                \u001b[1m{\u001b[0m\n",
       "                                    \u001b[32m'type'\u001b[0m: \u001b[1;36m772\u001b[0m,\n",
       "                                    \u001b[32m'typeName'\u001b[0m: \u001b[32m'BTFSValueNumber'\u001b[0m,\n",
       "                                    \u001b[32m'message'\u001b[0m: \u001b[1m{\u001b[0m\u001b[32m'value'\u001b[0m: \u001b[1;36m0.0\u001b[0m, \u001b[32m'typeTag'\u001b[0m: \u001b[32m''\u001b[0m\u001b[1m}\u001b[0m\n",
       "                                \u001b[1m}\u001b[0m,\n",
       "                                \u001b[1m{\u001b[0m\n",
       "                                    \u001b[32m'type'\u001b[0m: \u001b[1;36m772\u001b[0m,\n",
       "                                    \u001b[32m'typeName'\u001b[0m: \u001b[32m'BTFSValueNumber'\u001b[0m,\n",
       "                                    \u001b[32m'message'\u001b[0m: \u001b[1m{\u001b[0m\u001b[32m'value'\u001b[0m: \u001b[1;36m1.0\u001b[0m, \u001b[32m'typeTag'\u001b[0m: \u001b[32m''\u001b[0m\u001b[1m}\u001b[0m\n",
       "                                \u001b[1m}\u001b[0m\n",
       "                            \u001b[1m]\u001b[0m,\n",
       "                            \u001b[32m'typeTag'\u001b[0m: \u001b[32m'Vector'\u001b[0m\n",
       "                        \u001b[1m}\u001b[0m\n",
       "                    \u001b[1m}\u001b[0m\n",
       "                \u001b[1m}\u001b[0m\n",
       "            \u001b[1m}\u001b[0m,\n",
       "            \u001b[1m{\u001b[0m\n",
       "                \u001b[32m'type'\u001b[0m: \u001b[1;36m2077\u001b[0m,\n",
       "                \u001b[32m'typeName'\u001b[0m: \u001b[32m'BTFSValueMapEntry'\u001b[0m,\n",
       "                \u001b[32m'message'\u001b[0m: \u001b[1m{\u001b[0m\n",
       "                    \u001b[32m'key'\u001b[0m: \u001b[1m{\u001b[0m\n",
       "                        \u001b[32m'type'\u001b[0m: \u001b[1;36m1422\u001b[0m,\n",
       "                        \u001b[32m'typeName'\u001b[0m: \u001b[32m'BTFSValueString'\u001b[0m,\n",
       "                        \u001b[32m'message'\u001b[0m: \u001b[1m{\u001b[0m\u001b[32m'value'\u001b[0m: \u001b[32m'origin'\u001b[0m, \u001b[32m'typeTag'\u001b[0m: \u001b[32m''\u001b[0m\u001b[1m}\u001b[0m\n",
       "                    \u001b[1m}\u001b[0m,\n",
       "                    \u001b[32m'value'\u001b[0m: \u001b[1m{\u001b[0m\n",
       "                        \u001b[32m'type'\u001b[0m: \u001b[1;36m1499\u001b[0m,\n",
       "                        \u001b[32m'typeName'\u001b[0m: \u001b[32m'BTFSValueArray'\u001b[0m,\n",
       "                        \u001b[32m'message'\u001b[0m: \u001b[1m{\u001b[0m\n",
       "                            \u001b[32m'value'\u001b[0m: \u001b[1m[\u001b[0m\n",
       "                                \u001b[1m{\u001b[0m\n",
       "                                    \u001b[32m'type'\u001b[0m: \u001b[1;36m1817\u001b[0m,\n",
       "                                    \u001b[32m'typeName'\u001b[0m: \u001b[32m'BTFSValueWithUnits'\u001b[0m,\n",
       "                                    \u001b[32m'message'\u001b[0m: \u001b[1m{\u001b[0m\n",
       "                                        \u001b[32m'value'\u001b[0m: \u001b[1;36m0.0\u001b[0m,\n",
       "                                        \u001b[32m'unitToPower'\u001b[0m: \u001b[1m[\u001b[0m\u001b[1m{\u001b[0m\u001b[32m'key'\u001b[0m: \u001b[32m'METER'\u001b[0m, \u001b[32m'value'\u001b[0m: \u001b[1;36m1\u001b[0m\u001b[1m}\u001b[0m\u001b[1m]\u001b[0m,\n",
       "                                        \u001b[32m'typeTag'\u001b[0m: \u001b[32m''\u001b[0m\n",
       "                                    \u001b[1m}\u001b[0m\n",
       "                                \u001b[1m}\u001b[0m,\n",
       "                                \u001b[1m{\u001b[0m\n",
       "                                    \u001b[32m'type'\u001b[0m: \u001b[1;36m1817\u001b[0m,\n",
       "                                    \u001b[32m'typeName'\u001b[0m: \u001b[32m'BTFSValueWithUnits'\u001b[0m,\n",
       "                                    \u001b[32m'message'\u001b[0m: \u001b[1m{\u001b[0m\n",
       "                                        \u001b[32m'value'\u001b[0m: \u001b[1;36m0.0\u001b[0m,\n",
       "                                        \u001b[32m'unitToPower'\u001b[0m: \u001b[1m[\u001b[0m\u001b[1m{\u001b[0m\u001b[32m'key'\u001b[0m: \u001b[32m'METER'\u001b[0m, \u001b[32m'value'\u001b[0m: \u001b[1;36m1\u001b[0m\u001b[1m}\u001b[0m\u001b[1m]\u001b[0m,\n",
       "                                        \u001b[32m'typeTag'\u001b[0m: \u001b[32m''\u001b[0m\n",
       "                                    \u001b[1m}\u001b[0m\n",
       "                                \u001b[1m}\u001b[0m,\n",
       "                                \u001b[1m{\u001b[0m\n",
       "                                    \u001b[32m'type'\u001b[0m: \u001b[1;36m1817\u001b[0m,\n",
       "                                    \u001b[32m'typeName'\u001b[0m: \u001b[32m'BTFSValueWithUnits'\u001b[0m,\n",
       "                                    \u001b[32m'message'\u001b[0m: \u001b[1m{\u001b[0m\n",
       "                                        \u001b[32m'value'\u001b[0m: \u001b[1;36m-0.001115364721044898\u001b[0m,\n",
       "                                        \u001b[32m'unitToPower'\u001b[0m: \u001b[1m[\u001b[0m\u001b[1m{\u001b[0m\u001b[32m'key'\u001b[0m: \u001b[32m'METER'\u001b[0m, \u001b[32m'value'\u001b[0m: \u001b[1;36m1\u001b[0m\u001b[1m}\u001b[0m\u001b[1m]\u001b[0m,\n",
       "                                        \u001b[32m'typeTag'\u001b[0m: \u001b[32m''\u001b[0m\n",
       "                                    \u001b[1m}\u001b[0m\n",
       "                                \u001b[1m}\u001b[0m\n",
       "                            \u001b[1m]\u001b[0m,\n",
       "                            \u001b[32m'typeTag'\u001b[0m: \u001b[32m'Vector'\u001b[0m\n",
       "                        \u001b[1m}\u001b[0m\n",
       "                    \u001b[1m}\u001b[0m\n",
       "                \u001b[1m}\u001b[0m\n",
       "            \u001b[1m}\u001b[0m\n",
       "        \u001b[1m]\u001b[0m,\n",
       "        \u001b[32m'typeTag'\u001b[0m: \u001b[32m'Line'\u001b[0m\n",
       "    \u001b[1m}\u001b[0m\n",
       "\u001b[1m}\u001b[0m\n"
      ]
     },
     "metadata": {},
     "output_type": "display_data"
    }
   ],
   "source": [
    "print(message[0])"
   ]
  },
  {
   "cell_type": "code",
   "execution_count": 49,
   "metadata": {},
   "outputs": [
    {
     "ename": "KeyError",
     "evalue": "'result'",
     "output_type": "error",
     "traceback": [
      "\u001b[0;31m---------------------------------------------------------------------------\u001b[0m",
      "\u001b[0;31mKeyError\u001b[0m                                  Traceback (most recent call last)",
      "Cell \u001b[0;32mIn[49], line 10\u001b[0m\n\u001b[1;32m      8\u001b[0m \u001b[39mfor\u001b[39;00m vl \u001b[39min\u001b[39;00m value_list:\n\u001b[1;32m      9\u001b[0m     \u001b[39mif\u001b[39;00m key\u001b[39m==\u001b[39m\u001b[39m\"\u001b[39m\u001b[39morigin\u001b[39m\u001b[39m\"\u001b[39m \u001b[39mand\u001b[39;00m vl[\u001b[39m'\u001b[39m\u001b[39mmessage\u001b[39m\u001b[39m'\u001b[39m][\u001b[39m'\u001b[39m\u001b[39munitToPower\u001b[39m\u001b[39m'\u001b[39m][\u001b[39m0\u001b[39m][\u001b[39m'\u001b[39m\u001b[39mkey\u001b[39m\u001b[39m'\u001b[39m]\u001b[39m.\u001b[39mlower()\u001b[39m==\u001b[39m\u001b[39m\"\u001b[39m\u001b[39mmeter\u001b[39m\u001b[39m\"\u001b[39m:\n\u001b[0;32m---> 10\u001b[0m         val\u001b[39m.\u001b[39mappend(myclient\u001b[39m.\u001b[39;49mexpr2meter(did,eid,wid,vl[\u001b[39m'\u001b[39;49m\u001b[39mmessage\u001b[39;49m\u001b[39m'\u001b[39;49m][\u001b[39m'\u001b[39;49m\u001b[39mvalue\u001b[39;49m\u001b[39m'\u001b[39;49m]))\n\u001b[1;32m     11\u001b[0m     \u001b[39melse\u001b[39;00m:\n\u001b[1;32m     12\u001b[0m         val\u001b[39m.\u001b[39mappend(vl[\u001b[39m'\u001b[39m\u001b[39mmessage\u001b[39m\u001b[39m'\u001b[39m][\u001b[39m'\u001b[39m\u001b[39mvalue\u001b[39m\u001b[39m'\u001b[39m])\n",
      "File \u001b[0;32m~/Codes/onshape-cad-parser/myclient.py:375\u001b[0m, in \u001b[0;36mMyClient.expr2meter\u001b[0;34m(self, did, wid, eid, expr)\u001b[0m\n\u001b[1;32m    364\u001b[0m body \u001b[39m=\u001b[39m {\n\u001b[1;32m    365\u001b[0m     \u001b[39m\"\u001b[39m\u001b[39mscript\u001b[39m\u001b[39m\"\u001b[39m:\n\u001b[1;32m    366\u001b[0m         \u001b[39m\"\u001b[39m\u001b[39mfunction(context is Context, queries) \u001b[39m\u001b[39m{\u001b[39m\u001b[39m \u001b[39m\u001b[39m\"\u001b[39m\n\u001b[0;32m   (...)\u001b[0m\n\u001b[1;32m    369\u001b[0m     \u001b[39m\"\u001b[39m\u001b[39mqueries\u001b[39m\u001b[39m\"\u001b[39m: []\n\u001b[1;32m    370\u001b[0m }\n\u001b[1;32m    372\u001b[0m res \u001b[39m=\u001b[39m \u001b[39mself\u001b[39m\u001b[39m.\u001b[39m_api\u001b[39m.\u001b[39mrequest(\u001b[39m'\u001b[39m\u001b[39mpost\u001b[39m\u001b[39m'\u001b[39m, \u001b[39m'\u001b[39m\u001b[39m/api/partstudios/d/\u001b[39m\u001b[39m'\u001b[39m \u001b[39m+\u001b[39m did \u001b[39m+\u001b[39m \u001b[39m'\u001b[39m\u001b[39m/w/\u001b[39m\u001b[39m'\u001b[39m \u001b[39m+\u001b[39m wid \u001b[39m+\u001b[39m \u001b[39m'\u001b[39m\u001b[39m/e/\u001b[39m\u001b[39m'\u001b[39m \u001b[39m+\u001b[39m eid \u001b[39m+\u001b[39m\n\u001b[1;32m    373\u001b[0m                      \u001b[39m'\u001b[39m\u001b[39m/featurescript\u001b[39m\u001b[39m'\u001b[39m, body\u001b[39m=\u001b[39mbody)\u001b[39m.\u001b[39mjson()\n\u001b[0;32m--> 375\u001b[0m \u001b[39mreturn\u001b[39;00m res[\u001b[39m'\u001b[39;49m\u001b[39mresult\u001b[39;49m\u001b[39m'\u001b[39;49m][\u001b[39m'\u001b[39m\u001b[39mmessage\u001b[39m\u001b[39m'\u001b[39m][\u001b[39m'\u001b[39m\u001b[39mvalue\u001b[39m\u001b[39m'\u001b[39m]\n",
      "\u001b[0;31mKeyError\u001b[0m: 'result'"
     ]
    }
   ],
   "source": [
    "axis_dict = {}\n",
    "for item in message:\n",
    "    for entry in item[\"message\"][\"value\"]:\n",
    "        key = entry['message'][\"key\"][\"message\"][\"value\"]\n",
    "        if key in ['direction','origin']:\n",
    "            value_list = entry['message'][\"value\"][\"message\"][\"value\"]\n",
    "            val=[]\n",
    "            for vl in value_list:\n",
    "                if key==\"origin\" and vl['message']['unitToPower'][0]['key'].lower()==\"meter\":\n",
    "                    val.append(myclient.expr2meter(did,eid,wid,vl['message']['value']))\n",
    "                else:\n",
    "                    val.append(vl['message']['value'])\n",
    "\n",
    "        axis_dict[key] = val"
   ]
  },
  {
   "cell_type": "code",
   "execution_count": 47,
   "metadata": {},
   "outputs": [
    {
     "data": {
      "text/plain": [
       "[0.0, 0.0, -0.001115364721044898]"
      ]
     },
     "execution_count": 47,
     "metadata": {},
     "output_type": "execute_result"
    }
   ],
   "source": [
    "axis_dict['origin']"
   ]
  },
  {
   "cell_type": "code",
   "execution_count": 26,
   "metadata": {},
   "outputs": [
    {
     "data": {
      "text/html": [
       "<pre style=\"white-space:pre;overflow-x:auto;line-height:normal;font-family:Menlo,'DejaVu Sans Mono',consolas,'Courier New',monospace\"><span style=\"color: #008080; text-decoration-color: #008080; font-weight: bold\">404</span>\n",
       "</pre>\n"
      ],
      "text/plain": [
       "\u001b[1;36m404\u001b[0m\n"
      ]
     },
     "metadata": {},
     "output_type": "display_data"
    }
   ],
   "source": [
    "import requests\n",
    "import json\n",
    "\n",
    "data_id = \"00000029\"\n",
    "link = \"https://cad.onshape.com/documents/ad34a3f60c4a4caa99646600/w/90b1c0593d914ac7bdde17a3/e/f5cef14c36ad4428a6af59f0\"\n",
    "\n",
    "v_list = link.split(\"/\")\n",
    "did, wid, eid = v_list[-5], v_list[-3], v_list[-1]\n",
    "\n",
    "url = f\"https://cad.onshape.com/api/documents/{did}/workspaces/{wid}/elements/{eid}/features\"\n",
    "\n",
    "credentials = f'{data[\"access_key\"]}:{data[\"secret_key\"]}'\n",
    "base64_encoded_credentials = base64.b64encode(credentials.encode()).decode()\n",
    "\n",
    "headers = {\n",
    "    \"Authorization\": f\"Basic {base64_encoded_credentials}\"\n",
    "}\n",
    "response = requests.get(url, headers=headers)\n",
    "\n",
    "if response.status_code == 200:\n",
    "    features = json.loads(response.content)\n",
    "    for feature in features:\n",
    "        operations = feature[\"operations\"]\n",
    "        for operation in operations:\n",
    "            print(operation[\"name\"])\n",
    "else:\n",
    "    print(response.status_code)\n"
   ]
  },
  {
   "cell_type": "code",
   "execution_count": null,
   "metadata": {},
   "outputs": [],
   "source": []
  }
 ],
 "metadata": {
  "kernelspec": {
   "display_name": "point2cad",
   "language": "python",
   "name": "python3"
  },
  "language_info": {
   "codemirror_mode": {
    "name": "ipython",
    "version": 3
   },
   "file_extension": ".py",
   "mimetype": "text/x-python",
   "name": "python",
   "nbconvert_exporter": "python",
   "pygments_lexer": "ipython3",
   "version": "3.9.0"
  },
  "orig_nbformat": 4
 },
 "nbformat": 4,
 "nbformat_minor": 2
}
